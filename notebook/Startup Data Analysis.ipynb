{
 "cells": [
  {
   "cell_type": "code",
   "execution_count": 1,
   "id": "555aea8c",
   "metadata": {},
   "outputs": [],
   "source": [
    "import pandas as pd\n",
    "import numpy as np"
   ]
  },
  {
   "cell_type": "code",
   "execution_count": 2,
   "id": "fec29a27",
   "metadata": {},
   "outputs": [],
   "source": [
    "startup = pd.read_csv('startup_cleaned.csv')"
   ]
  },
  {
   "cell_type": "code",
   "execution_count": 7,
   "id": "441277af",
   "metadata": {},
   "outputs": [
    {
     "data": {
      "text/html": [
       "<div>\n",
       "<style scoped>\n",
       "    .dataframe tbody tr th:only-of-type {\n",
       "        vertical-align: middle;\n",
       "    }\n",
       "\n",
       "    .dataframe tbody tr th {\n",
       "        vertical-align: top;\n",
       "    }\n",
       "\n",
       "    .dataframe thead th {\n",
       "        text-align: right;\n",
       "    }\n",
       "</style>\n",
       "<table border=\"1\" class=\"dataframe\">\n",
       "  <thead>\n",
       "    <tr style=\"text-align: right;\">\n",
       "      <th></th>\n",
       "      <th>date</th>\n",
       "      <th>name</th>\n",
       "      <th>vertical</th>\n",
       "      <th>subvertical</th>\n",
       "      <th>city</th>\n",
       "      <th>investors</th>\n",
       "      <th>type</th>\n",
       "      <th>amount</th>\n",
       "    </tr>\n",
       "  </thead>\n",
       "  <tbody>\n",
       "    <tr>\n",
       "      <th>0</th>\n",
       "      <td>2020-09-01</td>\n",
       "      <td>BYJU’S</td>\n",
       "      <td>E-Tech</td>\n",
       "      <td>E-learning</td>\n",
       "      <td>Bengaluru</td>\n",
       "      <td>Tiger Global Management</td>\n",
       "      <td>Private Equity Round</td>\n",
       "      <td>1656.8</td>\n",
       "    </tr>\n",
       "  </tbody>\n",
       "</table>\n",
       "</div>"
      ],
      "text/plain": [
       "         date    name vertical subvertical       city  \\\n",
       "0  2020-09-01  BYJU’S   E-Tech  E-learning  Bengaluru   \n",
       "\n",
       "                 investors                  type  amount  \n",
       "0  Tiger Global Management  Private Equity Round  1656.8  "
      ]
     },
     "execution_count": 7,
     "metadata": {},
     "output_type": "execute_result"
    }
   ],
   "source": [
    "startup.head(1)"
   ]
  },
  {
   "cell_type": "code",
   "execution_count": 11,
   "id": "2d374eac",
   "metadata": {},
   "outputs": [
    {
     "data": {
      "text/plain": [
       "'E-commerce'"
      ]
     },
     "execution_count": 11,
     "metadata": {},
     "output_type": "execute_result"
    }
   ],
   "source": [
    "# Startup Sector\n",
    "\n",
    "startup_sector = startup[startup['name'] == 'Mamaearth']['vertical'].values[0]\n",
    "startup_sector"
   ]
  },
  {
   "cell_type": "code",
   "execution_count": 13,
   "id": "795dc521",
   "metadata": {},
   "outputs": [
    {
     "data": {
      "text/plain": [
       "'Retailer of baby and toddler products'"
      ]
     },
     "execution_count": 13,
     "metadata": {},
     "output_type": "execute_result"
    }
   ],
   "source": [
    "# Startup Subsector\n",
    "\n",
    "startup_subsector = startup[startup['name'] == 'Mamaearth']['subvertical'].values[0]\n",
    "startup_subsector"
   ]
  },
  {
   "cell_type": "code",
   "execution_count": 14,
   "id": "3899626c",
   "metadata": {},
   "outputs": [
    {
     "data": {
      "text/plain": [
       "'Bengaluru'"
      ]
     },
     "execution_count": 14,
     "metadata": {},
     "output_type": "execute_result"
    }
   ],
   "source": [
    "# Startup location\n",
    "\n",
    "startup_subsector = startup[startup['name'] == 'Mamaearth']['city'].values[0]\n",
    "startup_subsector"
   ]
  },
  {
   "cell_type": "code",
   "execution_count": 15,
   "id": "4b4c6bef",
   "metadata": {},
   "outputs": [
    {
     "data": {
      "text/plain": [
       "'Series B'"
      ]
     },
     "execution_count": 15,
     "metadata": {},
     "output_type": "execute_result"
    }
   ],
   "source": [
    "# Funding stage\n",
    "\n",
    "funding_stage = startup[startup['name'] == 'Mamaearth']['type'].values[0]\n",
    "funding_stage"
   ]
  },
  {
   "cell_type": "code",
   "execution_count": 17,
   "id": "b10990ac",
   "metadata": {},
   "outputs": [
    {
     "data": {
      "text/plain": [
       "'Sequoia Capital India'"
      ]
     },
     "execution_count": 17,
     "metadata": {},
     "output_type": "execute_result"
    }
   ],
   "source": [
    "# Investors\n",
    "\n",
    "investors = startup[startup['name'] == 'Mamaearth']['investors'].values[0]\n",
    "investors"
   ]
  },
  {
   "cell_type": "code",
   "execution_count": 18,
   "id": "d1d9ccab",
   "metadata": {},
   "outputs": [
    {
     "data": {
      "text/plain": [
       "'2020-09-01'"
      ]
     },
     "execution_count": 18,
     "metadata": {},
     "output_type": "execute_result"
    }
   ],
   "source": [
    "# Date of investment\n",
    "\n",
    "investment_date = startup[startup['name'] == 'Mamaearth']['date'].values[0]\n",
    "investment_date"
   ]
  },
  {
   "cell_type": "code",
   "execution_count": 31,
   "id": "2ef8492a",
   "metadata": {},
   "outputs": [
    {
     "data": {
      "text/html": [
       "<div>\n",
       "<style scoped>\n",
       "    .dataframe tbody tr th:only-of-type {\n",
       "        vertical-align: middle;\n",
       "    }\n",
       "\n",
       "    .dataframe tbody tr th {\n",
       "        vertical-align: top;\n",
       "    }\n",
       "\n",
       "    .dataframe thead th {\n",
       "        text-align: right;\n",
       "    }\n",
       "</style>\n",
       "<table border=\"1\" class=\"dataframe\">\n",
       "  <thead>\n",
       "    <tr style=\"text-align: right;\">\n",
       "      <th></th>\n",
       "      <th>date</th>\n",
       "      <th>name</th>\n",
       "      <th>vertical</th>\n",
       "      <th>subvertical</th>\n",
       "      <th>city</th>\n",
       "      <th>investors</th>\n",
       "      <th>type</th>\n",
       "      <th>amount</th>\n",
       "    </tr>\n",
       "  </thead>\n",
       "  <tbody>\n",
       "    <tr>\n",
       "      <th>0</th>\n",
       "      <td>2020-09-01</td>\n",
       "      <td>BYJU’S</td>\n",
       "      <td>E-Tech</td>\n",
       "      <td>E-learning</td>\n",
       "      <td>Bengaluru</td>\n",
       "      <td>Tiger Global Management</td>\n",
       "      <td>Private Equity Round</td>\n",
       "      <td>1656.8</td>\n",
       "    </tr>\n",
       "  </tbody>\n",
       "</table>\n",
       "</div>"
      ],
      "text/plain": [
       "         date    name vertical subvertical       city  \\\n",
       "0  2020-09-01  BYJU’S   E-Tech  E-learning  Bengaluru   \n",
       "\n",
       "                 investors                  type  amount  \n",
       "0  Tiger Global Management  Private Equity Round  1656.8  "
      ]
     },
     "execution_count": 31,
     "metadata": {},
     "output_type": "execute_result"
    }
   ],
   "source": [
    "startup.head(1)"
   ]
  },
  {
   "cell_type": "code",
   "execution_count": 26,
   "id": "9b011aa7",
   "metadata": {},
   "outputs": [
    {
     "data": {
      "text/plain": [
       "['StyleDotMe',\n",
       " 'GlowRoad',\n",
       " 'Medlife',\n",
       " 'Kabadiwala',\n",
       " 'Craftsvilla',\n",
       " 'My Healthcare',\n",
       " 'WOTU',\n",
       " 'DAAKI',\n",
       " 'Appario Retail Pvt Ltd.',\n",
       " 'Milkbasket']"
      ]
     },
     "execution_count": 26,
     "metadata": {},
     "output_type": "execute_result"
    }
   ],
   "source": [
    "# Similar Companies\n",
    "\n",
    "company_name = \"Mamaearth\"\n",
    "vertical = startup.loc[startup['name'] == company_name, 'vertical'].values[0]\n",
    "\n",
    "temp_companies = startup.loc[startup['vertical'] == vertical, 'name'].unique()\n",
    "\n",
    "similar_companies = []\n",
    "for company in temp_companies:\n",
    "    if company != company_name:\n",
    "        similar_companies.append(company)\n",
    "        \n",
    "similar_companies"
   ]
  },
  {
   "cell_type": "code",
   "execution_count": null,
   "id": "92411d83",
   "metadata": {},
   "outputs": [],
   "source": []
  },
  {
   "cell_type": "code",
   "execution_count": null,
   "id": "aa73af3e",
   "metadata": {},
   "outputs": [],
   "source": []
  }
 ],
 "metadata": {
  "kernelspec": {
   "display_name": "Python 3 (ipykernel)",
   "language": "python",
   "name": "python3"
  },
  "language_info": {
   "codemirror_mode": {
    "name": "ipython",
    "version": 3
   },
   "file_extension": ".py",
   "mimetype": "text/x-python",
   "name": "python",
   "nbconvert_exporter": "python",
   "pygments_lexer": "ipython3",
   "version": "3.10.9"
  }
 },
 "nbformat": 4,
 "nbformat_minor": 5
}
